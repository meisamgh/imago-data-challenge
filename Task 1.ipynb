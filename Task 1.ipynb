{
 "cells": [
  {
   "cell_type": "markdown",
   "id": "ba9d2c9452ff1d42",
   "metadata": {
    "collapsed": false
   },
   "source": [
    "## 📊 IMAGO Revenue Pipeline Analysis\n",
    "\n",
    "# Revenue Data Quality & Attribution Analysis\n",
    "\n",
    "This notebook walks through:\n",
    "\n",
    "1. Loading and profiling the data  \n",
    "2. Identifying positions tied to unpaid invoices  \n",
    "3. Quantifying revenue on placeholder media (`Bildnummer = 100000000`)  \n",
    "4. Finding invoices with no line-items  \n",
    "\n",
    "---\n"
   ]
  },
  {
   "cell_type": "code",
   "execution_count": 56,
   "id": "a6436cca6903c99f",
   "metadata": {
    "ExecuteTime": {
     "end_time": "2025-04-27T12:39:31.343428Z",
     "start_time": "2025-04-27T12:39:31.043577Z"
    },
    "collapsed": false
   },
   "outputs": [
    {
     "name": "stdout",
     "output_type": "stream",
     "text": [
      "Files in cwd: ['invoices.csv', 'customers.csv', 'simplified_schema_mssql.txt', 'positions.csv']\n",
      "🧾 Invoices: (2000, 8)\n",
      "📄 Positions: (129092, 6)\n",
      "👥 Customers: (601, 4)\n"
     ]
    }
   ],
   "source": [
    "# Cell 2 (updated): Load the data from the root directory\n",
    "import pandas as pd\n",
    "import os\n",
    "print(\"Files in cwd:\", os.listdir('.'))\n",
    "\n",
    "invoices = pd.read_csv(\n",
    "    'invoices.csv',\n",
    "    sep=';',\n",
    "    decimal=',',\n",
    "    thousands='.',\n",
    "    parse_dates=['ReDatum', 'Zahlungsdatum']\n",
    ")\n",
    "positions = pd.read_csv(\n",
    "    'positions.csv',\n",
    "    sep=';',\n",
    "    decimal=',',\n",
    "    thousands='.',\n",
    "    parse_dates=['VerDatum']\n",
    ")\n",
    "customers = pd.read_csv(\n",
    "    'customers.csv',\n",
    "    sep=';'\n",
    ")\n",
    "\n",
    "# Quick shape check\n",
    "print(\"🧾 Invoices:\", invoices.shape)\n",
    "print(\"📄 Positions:\", positions.shape)\n",
    "print(\"👥 Customers:\", customers.shape)\n"
   ]
  },
  {
   "cell_type": "code",
   "execution_count": 57,
   "id": "799102441b27d08",
   "metadata": {
    "ExecuteTime": {
     "end_time": "2025-04-27T12:39:32.877667Z",
     "start_time": "2025-04-27T12:39:32.824028Z"
    },
    "collapsed": false
   },
   "outputs": [
    {
     "data": {
      "text/html": [
       "<div>\n",
       "<style scoped>\n",
       "    .dataframe tbody tr th:only-of-type {\n",
       "        vertical-align: middle;\n",
       "    }\n",
       "\n",
       "    .dataframe tbody tr th {\n",
       "        vertical-align: top;\n",
       "    }\n",
       "\n",
       "    .dataframe thead th {\n",
       "        text-align: right;\n",
       "    }\n",
       "</style>\n",
       "<table border=\"1\" class=\"dataframe\">\n",
       "  <thead>\n",
       "    <tr style=\"text-align: right;\">\n",
       "      <th></th>\n",
       "      <th>ReNummer</th>\n",
       "      <th>SummeNetto</th>\n",
       "      <th>MwStSatz</th>\n",
       "      <th>ZahlungsbetragBrutto</th>\n",
       "      <th>KdNr</th>\n",
       "      <th>Summenebenkosten</th>\n",
       "      <th>ReDatum</th>\n",
       "      <th>Zahlungsdatum</th>\n",
       "    </tr>\n",
       "  </thead>\n",
       "  <tbody>\n",
       "    <tr>\n",
       "      <th>0</th>\n",
       "      <td>103601</td>\n",
       "      <td>1178670</td>\n",
       "      <td>0</td>\n",
       "      <td>0.0</td>\n",
       "      <td>78911</td>\n",
       "      <td>0.0</td>\n",
       "      <td>2025-04-04</td>\n",
       "      <td>NaT</td>\n",
       "    </tr>\n",
       "    <tr>\n",
       "      <th>1</th>\n",
       "      <td>103600</td>\n",
       "      <td>37900</td>\n",
       "      <td>7</td>\n",
       "      <td>0.0</td>\n",
       "      <td>79666</td>\n",
       "      <td>0.0</td>\n",
       "      <td>2025-04-03</td>\n",
       "      <td>NaT</td>\n",
       "    </tr>\n",
       "    <tr>\n",
       "      <th>2</th>\n",
       "      <td>103599</td>\n",
       "      <td>16000</td>\n",
       "      <td>7</td>\n",
       "      <td>0.0</td>\n",
       "      <td>30145</td>\n",
       "      <td>0.0</td>\n",
       "      <td>2025-04-04</td>\n",
       "      <td>NaT</td>\n",
       "    </tr>\n",
       "  </tbody>\n",
       "</table>\n",
       "</div>"
      ],
      "text/plain": [
       "   ReNummer  SummeNetto  MwStSatz  ZahlungsbetragBrutto   KdNr  Summenebenkosten    ReDatum Zahlungsdatum\n",
       "0    103601     1178670         0                   0.0  78911               0.0 2025-04-04           NaT\n",
       "1    103600       37900         7                   0.0  79666               0.0 2025-04-03           NaT\n",
       "2    103599       16000         7                   0.0  30145               0.0 2025-04-04           NaT"
      ]
     },
     "metadata": {},
     "output_type": "display_data"
    },
    {
     "data": {
      "text/html": [
       "<div>\n",
       "<style scoped>\n",
       "    .dataframe tbody tr th:only-of-type {\n",
       "        vertical-align: middle;\n",
       "    }\n",
       "\n",
       "    .dataframe tbody tr th {\n",
       "        vertical-align: top;\n",
       "    }\n",
       "\n",
       "    .dataframe thead th {\n",
       "        text-align: right;\n",
       "    }\n",
       "</style>\n",
       "<table border=\"1\" class=\"dataframe\">\n",
       "  <thead>\n",
       "    <tr style=\"text-align: right;\">\n",
       "      <th></th>\n",
       "      <th>id</th>\n",
       "      <th>ReId</th>\n",
       "      <th>KdNr</th>\n",
       "      <th>Nettobetrag</th>\n",
       "      <th>Bildnummer</th>\n",
       "      <th>VerDatum</th>\n",
       "    </tr>\n",
       "  </thead>\n",
       "  <tbody>\n",
       "    <tr>\n",
       "      <th>0</th>\n",
       "      <td>4154495</td>\n",
       "      <td>102038</td>\n",
       "      <td>50292.0</td>\n",
       "      <td>1900.0</td>\n",
       "      <td>168161043.0</td>\n",
       "      <td>2022-09-29</td>\n",
       "    </tr>\n",
       "    <tr>\n",
       "      <th>1</th>\n",
       "      <td>4154496</td>\n",
       "      <td>102038</td>\n",
       "      <td>50292.0</td>\n",
       "      <td>1900.0</td>\n",
       "      <td>108514408.0</td>\n",
       "      <td>2022-09-12</td>\n",
       "    </tr>\n",
       "    <tr>\n",
       "      <th>2</th>\n",
       "      <td>4154497</td>\n",
       "      <td>102038</td>\n",
       "      <td>50292.0</td>\n",
       "      <td>1900.0</td>\n",
       "      <td>55374589.0</td>\n",
       "      <td>2022-09-08</td>\n",
       "    </tr>\n",
       "  </tbody>\n",
       "</table>\n",
       "</div>"
      ],
      "text/plain": [
       "        id    ReId     KdNr  Nettobetrag   Bildnummer   VerDatum\n",
       "0  4154495  102038  50292.0       1900.0  168161043.0 2022-09-29\n",
       "1  4154496  102038  50292.0       1900.0  108514408.0 2022-09-12\n",
       "2  4154497  102038  50292.0       1900.0   55374589.0 2022-09-08"
      ]
     },
     "metadata": {},
     "output_type": "display_data"
    },
    {
     "data": {
      "text/html": [
       "<div>\n",
       "<style scoped>\n",
       "    .dataframe tbody tr th:only-of-type {\n",
       "        vertical-align: middle;\n",
       "    }\n",
       "\n",
       "    .dataframe tbody tr th {\n",
       "        vertical-align: top;\n",
       "    }\n",
       "\n",
       "    .dataframe thead th {\n",
       "        text-align: right;\n",
       "    }\n",
       "</style>\n",
       "<table border=\"1\" class=\"dataframe\">\n",
       "  <thead>\n",
       "    <tr style=\"text-align: right;\">\n",
       "      <th></th>\n",
       "      <th>id</th>\n",
       "      <th>Kdnr</th>\n",
       "      <th>Verlagsname</th>\n",
       "      <th>Region</th>\n",
       "    </tr>\n",
       "  </thead>\n",
       "  <tbody>\n",
       "    <tr>\n",
       "      <th>0</th>\n",
       "      <td>5</td>\n",
       "      <td>20172</td>\n",
       "      <td>1. FC Nürnberg</td>\n",
       "      <td>Nürnberg</td>\n",
       "    </tr>\n",
       "    <tr>\n",
       "      <th>1</th>\n",
       "      <td>19</td>\n",
       "      <td>20137</td>\n",
       "      <td>Allgäuer Zeitung / Allgäuer Zeitungsverlag GmbH</td>\n",
       "      <td>Bodensee</td>\n",
       "    </tr>\n",
       "    <tr>\n",
       "      <th>2</th>\n",
       "      <td>27</td>\n",
       "      <td>20115</td>\n",
       "      <td>Augsburger Allgemeine</td>\n",
       "      <td>München</td>\n",
       "    </tr>\n",
       "  </tbody>\n",
       "</table>\n",
       "</div>"
      ],
      "text/plain": [
       "   id   Kdnr                                      Verlagsname    Region\n",
       "0   5  20172                                   1. FC Nürnberg  Nürnberg\n",
       "1  19  20137  Allgäuer Zeitung / Allgäuer Zeitungsverlag GmbH  Bodensee\n",
       "2  27  20115                            Augsburger Allgemeine   München"
      ]
     },
     "metadata": {},
     "output_type": "display_data"
    }
   ],
   "source": [
    "# Cell 3: Peek at each table\n",
    "display(invoices.head(3))\n",
    "display(positions.head(3))\n",
    "display(customers.head(3))\n"
   ]
  },
  {
   "cell_type": "markdown",
   "id": "a5343d2e911e3efd",
   "metadata": {
    "collapsed": false
   },
   "source": [
    "### 1. Positions linked to invoices missing payment info  \n",
    "We join `positions.ReId → invoices.ReNummer` and count where `Zahlungsdatum` is null.\n"
   ]
  },
  {
   "cell_type": "code",
   "execution_count": 58,
   "id": "e07546d7fe6a69d1",
   "metadata": {
    "ExecuteTime": {
     "end_time": "2025-04-27T12:39:35.817413Z",
     "start_time": "2025-04-27T12:39:35.631008Z"
    },
    "collapsed": false
   },
   "outputs": [
    {
     "name": "stdout",
     "output_type": "stream",
     "text": [
      "Number of positions on unpaid invoices: 18011\n",
      "Total Nettobetrag of those positions: €57,663,120.00\n"
     ]
    }
   ],
   "source": [
    "# Cell 4: Unpaid positions count & total\n",
    "pos_inv = (\n",
    "    positions\n",
    "    .merge(\n",
    "        invoices[['ReNummer', 'Zahlungsdatum']],\n",
    "        left_on='ReId',\n",
    "        right_on='ReNummer',\n",
    "        how='left'\n",
    "    )\n",
    ")\n",
    "unpaid = pos_inv[pos_inv['Zahlungsdatum'].isna()]\n",
    "\n",
    "count_unpaid = len(unpaid)\n",
    "total_unpaid = unpaid['Nettobetrag'].sum()\n",
    "\n",
    "print(f\"Number of positions on unpaid invoices: {count_unpaid}\")\n",
    "print(f\"Total Nettobetrag of those positions: €{total_unpaid:,.2f}\")\n"
   ]
  },
  {
   "cell_type": "markdown",
   "id": "d5ba854b3ece7a52",
   "metadata": {
    "collapsed": false
   },
   "source": [
    "### 2. Revenue attributed to placeholder media ID (`Bildnummer = 100000000`)\n",
    "Filter `positions` for the placeholder and sum `Nettobetrag`.\n"
   ]
  },
  {
   "cell_type": "code",
   "execution_count": 59,
   "id": "ece5c9f7a1ed4a46",
   "metadata": {
    "ExecuteTime": {
     "end_time": "2025-04-27T12:39:41.829044Z",
     "start_time": "2025-04-27T12:39:41.760460Z"
    },
    "collapsed": false
   },
   "outputs": [
    {
     "name": "stdout",
     "output_type": "stream",
     "text": [
      "Count of placeholder positions: 2407\n",
      "Total Nettobetrag on placeholder media: €131,989,791.00\n"
     ]
    }
   ],
   "source": [
    "# Cell 5: Placeholder-media revenue\n",
    "placeholder = positions[positions['Bildnummer'] == 100000000]\n",
    "count_ph = len(placeholder)\n",
    "total_ph = placeholder['Nettobetrag'].sum()\n",
    "\n",
    "print(f\"Count of placeholder positions: {count_ph}\")\n",
    "print(f\"Total Nettobetrag on placeholder media: €{total_ph:,.2f}\")\n"
   ]
  },
  {
   "cell_type": "markdown",
   "id": "c06b38e53f501341",
   "metadata": {
    "collapsed": false
   },
   "source": [
    "### 3. Invoices with no positions attached  \n",
    "Find all `ReNummer` in invoices not present in `positions.ReId`.\n"
   ]
  },
  {
   "cell_type": "code",
   "execution_count": 60,
   "id": "acf1a1047200ad6",
   "metadata": {
    "ExecuteTime": {
     "end_time": "2025-04-27T12:39:53.064068Z",
     "start_time": "2025-04-27T12:39:52.966005Z"
    },
    "collapsed": false
   },
   "outputs": [
    {
     "name": "stdout",
     "output_type": "stream",
     "text": [
      "Number of invoices with zero positions: 2\n"
     ]
    },
    {
     "data": {
      "text/html": [
       "<div>\n",
       "<style scoped>\n",
       "    .dataframe tbody tr th:only-of-type {\n",
       "        vertical-align: middle;\n",
       "    }\n",
       "\n",
       "    .dataframe tbody tr th {\n",
       "        vertical-align: top;\n",
       "    }\n",
       "\n",
       "    .dataframe thead th {\n",
       "        text-align: right;\n",
       "    }\n",
       "</style>\n",
       "<table border=\"1\" class=\"dataframe\">\n",
       "  <thead>\n",
       "    <tr style=\"text-align: right;\">\n",
       "      <th></th>\n",
       "      <th>ReNummer</th>\n",
       "      <th>ReDatum</th>\n",
       "      <th>SummeNetto</th>\n",
       "    </tr>\n",
       "  </thead>\n",
       "  <tbody>\n",
       "    <tr>\n",
       "      <th>1283</th>\n",
       "      <td>102318</td>\n",
       "      <td>2025-01-03</td>\n",
       "      <td>31600</td>\n",
       "    </tr>\n",
       "    <tr>\n",
       "      <th>1626</th>\n",
       "      <td>101975</td>\n",
       "      <td>2024-12-03</td>\n",
       "      <td>20000</td>\n",
       "    </tr>\n",
       "  </tbody>\n",
       "</table>\n",
       "</div>"
      ],
      "text/plain": [
       "      ReNummer    ReDatum  SummeNetto\n",
       "1283    102318 2025-01-03       31600\n",
       "1626    101975 2024-12-03       20000"
      ]
     },
     "metadata": {},
     "output_type": "display_data"
    }
   ],
   "source": [
    "# Cell 6: Orphan invoices\n",
    "invoices_with_pos = positions['ReId'].unique()\n",
    "orphan = invoices[~invoices['ReNummer'].isin(invoices_with_pos)]\n",
    "\n",
    "count_orphan = len(orphan)\n",
    "print(f\"Number of invoices with zero positions: {count_orphan}\")\n",
    "display(orphan[['ReNummer', 'ReDatum', 'SummeNetto']].head())\n"
   ]
  },
  {
   "cell_type": "code",
   "execution_count": 68,
   "id": "72635143f0726511",
   "metadata": {
    "ExecuteTime": {
     "end_time": "2025-04-27T12:47:18.883632Z",
     "start_time": "2025-04-27T12:47:18.821319Z"
    },
    "collapsed": false
   },
   "outputs": [
    {
     "data": {
      "text/markdown": [
       "\n",
       "## 📝 Findings Summary\n",
       "\n",
       "1. **Unpaid Positions**  \n",
       "   18,011 positions on invoices without a `Zahlungsdatum`.  \n",
       "   €57,663,120.00 total net amount.\n",
       "\n",
       "2. **Placeholder Media ID**  \n",
       "   2,407 line-items booked to `Bildnummer = 100000000`.  \n",
       "   €131,989,791.00 total net revenue on these.\n",
       "\n",
       "3. **Orphan Invoices**  \n",
       "   2 invoices have no associated positions.  \n"
      ],
      "text/plain": [
       "<IPython.core.display.Markdown object>"
      ]
     },
     "metadata": {},
     "output_type": "display_data"
    }
   ],
   "source": [
    "# Cell 7: Render the Findings Summary dynamically\n",
    "from IPython.display import Markdown, display\n",
    "\n",
    "summary = f\"\"\"\n",
    "## 📝 Findings Summary\n",
    "\n",
    "1. **Unpaid Positions**  \n",
    "   {count_unpaid:,} positions on invoices without a `Zahlungsdatum`.  \n",
    "   €{total_unpaid:,.2f} total net amount.\n",
    "\n",
    "2. **Placeholder Media ID**  \n",
    "   {count_ph:,} line-items booked to `Bildnummer = 100000000`.  \n",
    "   €{total_ph:,.2f} total net revenue on these.\n",
    "\n",
    "3. **Orphan Invoices**  \n",
    "   {count_orphan:,} invoices have no associated positions.  \n",
    "\"\"\"\n",
    "\n",
    "display(Markdown(summary))\n"
   ]
  },
  {
   "cell_type": "markdown",
   "id": "3c3f43f276c1663e",
   "metadata": {
    "collapsed": false
   },
   "source": [
    "> **Next Steps**  \n",
    "> - Enforce FK relationships at ingestion.  \n",
    "> - Reject or flag `Bildnummer=100000000`.  \n",
    "> - Automate alerts when unpaid-position totals or orphan-invoice counts exceed thresholds.  "
   ]
  },
  {
   "cell_type": "code",
   "execution_count": null,
   "id": "d09eee3ace68d7bf",
   "metadata": {
    "collapsed": false
   },
   "outputs": [],
   "source": []
  }
 ],
 "metadata": {
  "kernelspec": {
   "display_name": "Python 3",
   "language": "python",
   "name": "python3"
  },
  "language_info": {
   "codemirror_mode": {
    "name": "ipython",
    "version": 2
   },
   "file_extension": ".py",
   "mimetype": "text/x-python",
   "name": "python",
   "nbconvert_exporter": "python",
   "pygments_lexer": "ipython2",
   "version": "2.7.6"
  }
 },
 "nbformat": 4,
 "nbformat_minor": 5
}
